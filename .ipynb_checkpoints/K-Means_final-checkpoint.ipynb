{
 "cells": [
  {
   "cell_type": "code",
   "execution_count": 1,
   "metadata": {},
   "outputs": [
    {
     "name": "stderr",
     "output_type": "stream",
     "text": [
      "D:\\Anaconda\\lib\\site-packages\\h5py\\__init__.py:34: FutureWarning: Conversion of the second argument of issubdtype from `float` to `np.floating` is deprecated. In future, it will be treated as `np.float64 == np.dtype(float).type`.\n",
      "  from ._conv import register_converters as _register_converters\n"
     ]
    }
   ],
   "source": [
    "from sklearn.feature_extraction.text import CountVectorizer, TfidfTransformer\n",
    "from sklearn.manifold import TSNE\n",
    "from sklearn.cluster import KMeans\n",
    "from data_utils import *\n",
    "import jieba\n",
    "import matplotlib.pyplot as plt"
   ]
  },
  {
   "cell_type": "markdown",
   "metadata": {
    "collapsed": true
   },
   "source": [
    "## 加载语料"
   ]
  },
  {
   "cell_type": "code",
   "execution_count": 2,
   "metadata": {
    "collapsed": true
   },
   "outputs": [],
   "source": [
    "#bigram 分词\n",
    "segment_bigram = lambda text:\" \".join([word + text[idx + 1] for idx,word in enumerate(text) if idx < len(text) - 1])\n",
    "#jieba分词\n",
    "segment_jieba = lambda text:\" \".join(jieba.cut(text))\n",
    "#加载语料\n",
    "corpus = []\n",
    "with open(\"test.txt\",\"r\",encoding = \"utf-8\")as f:\n",
    "    for line in f:\n",
    "        #去掉标点符号\n",
    "        corpus.append(line.strip())\n",
    "        "
   ]
  },
  {
   "cell_type": "markdown",
   "metadata": {},
   "source": [
    "## 计算tf-idf权重"
   ]
  },
  {
   "cell_type": "code",
   "execution_count": 3,
   "metadata": {
    "collapsed": true
   },
   "outputs": [],
   "source": [
    "#计算tf-idf设为权重\n",
    "vectorizer = CountVectorizer()\n",
    "transformer = TfidfTransformer()\n",
    "tfidf = transformer.fit_transform(vectorizer.fit_transform(corpus))\n",
    "\"\"\"\n",
    "获取词袋模型中的所有词语特征\n",
    "如果特征数量非常多的情况下可以按照权重降维\n",
    "\"\"\"\n",
    "word = vectorizer.get_feature_names()"
   ]
  },
  {
   "cell_type": "code",
   "execution_count": null,
   "metadata": {},
   "outputs": [
    {
     "name": "stdout",
     "output_type": "stream",
     "text": [
      "word feature lenth:25321\n"
     ]
    }
   ],
   "source": [
    "print(\"word feature lenth:{}\".format(len(word)))\n",
    "#导出权重\n",
    "tfidf_weight = tfidf.toarray()"
   ]
  },
  {
   "cell_type": "markdown",
   "metadata": {},
   "source": [
    "将文本向量化的方式其实有很多，最简单的就是one-hot(独热编码)方式，在之前的文章中也讲过这种方式的实现原理，如果不用TF-IDF设置权重，那么，后面进行文本向量化之后的矩阵值只有0、1两种，词与词之间的权重没有进行区分，所以用这种方式设置权重。\n",
    "\n"
   ]
  },
  {
   "cell_type": "markdown",
   "metadata": {},
   "source": [
    "## 文本聚类"
   ]
  },
  {
   "cell_type": "code",
   "execution_count": null,
   "metadata": {},
   "outputs": [],
   "source": [
    "# 指定成7个分类\n",
    "kmeans = KMeans(n_clusters=7)\n",
    "kmeans.fit(tfidf_weight)\n",
    "#打印出每个簇的中心\n",
    "print(kmeans.cluster_centers_)\n",
    "for index,label in enumerate(kmeans.labels_,1):\n",
    "    print(\"index:{},label:{}\".format(index,label))\n",
    "# 样本距其最近的聚类中心的平方距离之和，用来评判分类的准确度，值越小越好\n",
    "# k-means的超参数n_clusters可以通过该值来评估\n",
    "print(\"inertia: {}\".format(kmeans.inertia_))"
   ]
  },
  {
   "cell_type": "markdown",
   "metadata": {},
   "source": [
    "## 可视化"
   ]
  },
  {
   "cell_type": "code",
   "execution_count": null,
   "metadata": {
    "collapsed": true
   },
   "outputs": [],
   "source": [
    "# 使用T-SNE算法对权重进行降维，准确度比PCA算法高，但是耗时长\n",
    "tsne = TSNE(n_components = 2)\n",
    "decomposition_data = tsne.fit_transform(tfidf_weight)\n",
    "x = []\n",
    "y = []\n",
    "for i in decomposition_data:\n",
    "    x.append(i[0])\n",
    "    y.append(i[1])\n",
    "fig = plt.fit_transform(figsize = (10,10))\n",
    "ax = plt.axes()\n",
    "plt.scatter(x,y,c = kmeans.labels_,marker = \"x\")\n",
    "plt.xticks(())\n",
    "plt.yticks(())\n",
    "plt.savefig('/.sample.pbg',aspect = 1)"
   ]
  }
 ],
 "metadata": {
  "kernelspec": {
   "display_name": "Python 3",
   "language": "python",
   "name": "python3"
  },
  "language_info": {
   "codemirror_mode": {
    "name": "ipython",
    "version": 3
   },
   "file_extension": ".py",
   "mimetype": "text/x-python",
   "name": "python",
   "nbconvert_exporter": "python",
   "pygments_lexer": "ipython3",
   "version": "3.6.2"
  }
 },
 "nbformat": 4,
 "nbformat_minor": 2
}
